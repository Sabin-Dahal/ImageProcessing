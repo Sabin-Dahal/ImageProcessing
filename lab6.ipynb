{
 "cells": [
  {
   "cell_type": "markdown",
   "id": "bbc18ac7",
   "metadata": {},
   "source": [
    "## LAB 6: Pattern Recognition with Neural Networks\n",
    "`Sabin Dahal (022bscit035)`"
   ]
  },
  {
   "cell_type": "markdown",
   "id": "90dbf4fc",
   "metadata": {},
   "source": [
    "Pattern recognition is teaching a computer to spot patterns or similarities in data, like recognizing a face or reading a handwritten digit.Multilayer perceptrons (MLPs), are really good at this. They’re modeled after the human brain and made up of layers of nodes (neurons) that pass signals forward. When we train a neural network, we give it input data and the correct output, and it learns by adjusting weights using methods like backpropagation and gradient descent. Over time, it gets better at matching inputs to the right outputs even for data it hasn’t seen before. Activation functions like tanh or sigmoid help the network handle complex patterns by adding non-linearity. Overall, neural networks are powerful tools in pattern recognition and are used in all kinds of areas like image recognition, speech processing, and more."
   ]
  },
  {
   "cell_type": "code",
   "execution_count": 2,
   "id": "06c56941",
   "metadata": {},
   "outputs": [],
   "source": [
    "import cv2\n",
    "import numpy as np\n",
    "import os\n",
    "import random\n",
    "import matplotlib.pyplot as plt\n",
    "\n",
    "from tensorflow.keras.models import Sequential\n",
    "from tensorflow.keras.layers import Dense\n",
    "from tensorflow.keras.utils import to_categorical\n",
    "from sklearn.model_selection import train_test_split\n"
   ]
  },
  {
   "cell_type": "code",
   "execution_count": 4,
   "id": "43e203c0",
   "metadata": {},
   "outputs": [
    {
     "data": {
      "image/png": "[encoded data removed]",
      "text/plain": [
       "<Figure size 640x480 with 1 Axes>"
      ]
     },
     "metadata": {},
     "output_type": "display_data"
    }
   ],
   "source": [
    "shapes = ['circle', 'square', 'triangle']\n",
    "data = []   # Will store the pixel data of each image\n",
    "labels = [] # Will store the label (0, 1, or 2) for each shape\n",
    "\n",
    "# Function to create an image with a single shape\n",
    "def draw_shape(shape_name):\n",
    "    # Start with a black 64x64 image\n",
    "    img = np.zeros((64, 64), dtype=np.uint8)\n",
    "\n",
    "    # Choose random center and size for the shape\n",
    "    x = random.randint(20, 44)\n",
    "    y = random.randint(20, 44)\n",
    "    size = random.randint(10, 20)\n",
    "\n",
    "    # Draw the chosen shape\n",
    "    if shape_name == 'circle':\n",
    "        cv2.circle(img, (x, y), size, 255, -1)  # White filled circle\n",
    "    elif shape_name == 'square':\n",
    "        top_left = (x - size, y - size)\n",
    "        bottom_right = (x + size, y + size)\n",
    "        cv2.rectangle(img, top_left, bottom_right, 255, -1)  # White filled square\n",
    "    elif shape_name == 'triangle':\n",
    "        # Generate 3 random points for the triangle\n",
    "        points = np.array([[random.randint(10, 54), random.randint(10, 54)] for _ in range(3)], np.int32)\n",
    "        points = points.reshape((-1, 1, 2))\n",
    "        cv2.fillPoly(img, [points], 255)  # White filled triangle\n",
    "\n",
    "    # Add some random noise to the image to make it realistic\n",
    "    noise = np.random.randint(0, 20, (64, 64), dtype=np.uint8)\n",
    "    img = cv2.add(img, noise)\n",
    "\n",
    "    return img\n",
    "\n",
    "# Show one sample shape (optional preview)\n",
    "sample = draw_shape('circle')\n",
    "plt.imshow(sample, cmap='gray')  # Display the image in grayscale\n",
    "plt.title(\"Sample Circle\")\n",
    "plt.axis('off')\n",
    "plt.show()\n",
    "\n",
    "# Generate 100,000 images and labels\n",
    "for _ in range(100000):\n",
    "    shape = random.choice(shapes)        # Pick a random shape\n",
    "    image = draw_shape(shape)            # Create the image\n",
    "    data.append(image.flatten() / 255.0) # Flatten and normalize pixel values\n",
    "    labels.append(shapes.index(shape))   # Label: 0 for circle, 1 for square, 2 for triangle"
   ]
  },
  {
   "cell_type": "markdown",
   "id": "5d464774",
   "metadata": {},
   "source": []
  },
  {
   "cell_type": "code",
   "execution_count": 5,
   "id": "206cfa44",
   "metadata": {},
   "outputs": [
    {
     "name": "stderr",
     "output_type": "stream",
     "text": [
      "d:\\csit sabin\\sabin dahal lab 035\\imageprocessing\\tf-env\\lib\\site-packages\\keras\\src\\layers\\core\\dense.py:93: UserWarning: Do not pass an `input_shape`/`input_dim` argument to a layer. When using Sequential models, prefer using an `Input(shape)` object as the first layer in the model instead.\n",
      "  super().__init__(activity_regularizer=activity_regularizer, **kwargs)\n"
     ]
    },
    {
     "name": "stdout",
     "output_type": "stream",
     "text": [
      "Epoch 1/10\n",
      "\u001b[1m2500/2500\u001b[0m \u001b[32m━━━━━━━━━━━━━━━━━━━━\u001b[0m\u001b[37m\u001b[0m \u001b[1m11s\u001b[0m 4ms/step - accuracy: 0.8711 - loss: 0.3026 - val_accuracy: 0.9895 - val_loss: 0.0294\n",
      "Epoch 2/10\n",
      "\u001b[1m2500/2500\u001b[0m \u001b[32m━━━━━━━━━━━━━━━━━━━━\u001b[0m\u001b[37m\u001b[0m \u001b[1m7s\u001b[0m 3ms/step - accuracy: 0.9932 - loss: 0.0214 - val_accuracy: 0.9972 - val_loss: 0.0100\n",
      "Epoch 3/10\n",
      "\u001b[1m2500/2500\u001b[0m \u001b[32m━━━━━━━━━━━━━━━━━━━━\u001b[0m\u001b[37m\u001b[0m \u001b[1m14s\u001b[0m 6ms/step - accuracy: 0.9971 - loss: 0.0097 - val_accuracy: 0.9937 - val_loss: 0.0207\n",
      "Epoch 4/10\n",
      "\u001b[1m2500/2500\u001b[0m \u001b[32m━━━━━━━━━━━━━━━━━━━━\u001b[0m\u001b[37m\u001b[0m \u001b[1m26s\u001b[0m 10ms/step - accuracy: 0.9947 - loss: 0.0205 - val_accuracy: 0.9946 - val_loss: 0.0188\n",
      "Epoch 5/10\n",
      "\u001b[1m2500/2500\u001b[0m \u001b[32m━━━━━━━━━━━━━━━━━━━━\u001b[0m\u001b[37m\u001b[0m \u001b[1m22s\u001b[0m 9ms/step - accuracy: 0.9982 - loss: 0.0067 - val_accuracy: 0.9977 - val_loss: 0.0076\n",
      "Epoch 6/10\n",
      "\u001b[1m2500/2500\u001b[0m \u001b[32m━━━━━━━━━━━━━━━━━━━━\u001b[0m\u001b[37m\u001b[0m \u001b[1m7s\u001b[0m 3ms/step - accuracy: 0.9984 - loss: 0.0056 - val_accuracy: 0.9998 - val_loss: 6.1762e-04\n",
      "Epoch 7/10\n",
      "\u001b[1m2500/2500\u001b[0m \u001b[32m━━━━━━━━━━━━━━━━━━━━\u001b[0m\u001b[37m\u001b[0m \u001b[1m8s\u001b[0m 3ms/step - accuracy: 0.9976 - loss: 0.0085 - val_accuracy: 0.9998 - val_loss: 0.0011\n",
      "Epoch 8/10\n",
      "\u001b[1m2500/2500\u001b[0m \u001b[32m━━━━━━━━━━━━━━━━━━━━\u001b[0m\u001b[37m\u001b[0m \u001b[1m8s\u001b[0m 3ms/step - accuracy: 0.9987 - loss: 0.0053 - val_accuracy: 0.9986 - val_loss: 0.0056\n",
      "Epoch 9/10\n",
      "\u001b[1m2500/2500\u001b[0m \u001b[32m━━━━━━━━━━━━━━━━━━━━\u001b[0m\u001b[37m\u001b[0m \u001b[1m8s\u001b[0m 3ms/step - accuracy: 0.9991 - loss: 0.0036 - val_accuracy: 0.9987 - val_loss: 0.0054\n",
      "Epoch 10/10\n",
      "\u001b[1m2500/2500\u001b[0m \u001b[32m━━━━━━━━━━━━━━━━━━━━\u001b[0m\u001b[37m\u001b[0m \u001b[1m8s\u001b[0m 3ms/step - accuracy: 0.9980 - loss: 0.0097 - val_accuracy: 0.9994 - val_loss: 0.0035\n"
     ]
    },
    {
     "data": {
      "text/plain": [
       "<keras.src.callbacks.history.History at 0x25126b48820>"
      ]
     },
     "execution_count": 5,
     "metadata": {},
     "output_type": "execute_result"
    }
   ],
   "source": [
    "X = np.array(data)\n",
    "y = to_categorical(labels)\n",
    "\n",
    "X_train, X_test, y_train, y_test = train_test_split(X, y, test_size=0.2)\n",
    "\n",
    "model = Sequential([\n",
    "    Dense(128, activation='relu', input_shape=(64*64,)),\n",
    "    Dense(64, activation='relu'),\n",
    "    Dense(3, activation='softmax')\n",
    "])\n",
    "\n",
    "model.compile(optimizer='adam', loss='categorical_crossentropy', metrics=['accuracy'])\n",
    "model.fit(X_train, y_train, epochs=10, validation_data=(X_test, y_test))"
   ]
  },
  {
   "cell_type": "code",
   "execution_count": 6,
   "id": "750980e1",
   "metadata": {},
   "outputs": [
    {
     "name": "stdout",
     "output_type": "stream",
     "text": [
      "\u001b[1m625/625\u001b[0m \u001b[32m━━━━━━━━━━━━━━━━━━━━\u001b[0m\u001b[37m\u001b[0m \u001b[1m1s\u001b[0m 1ms/step - accuracy: 0.9996 - loss: 0.0028\n",
      "Test Accuracy: 99.94%\n"
     ]
    }
   ],
   "source": [
    "loss, accuracy = model.evaluate(X_test, y_test)\n",
    "print(f'Test Accuracy: {accuracy * 100:.2f}%')"
   ]
  },
  {
   "cell_type": "code",
   "execution_count": 7,
   "id": "d7a0e8f5",
   "metadata": {},
   "outputs": [],
   "source": [
    "def test(img):\n",
    "    # Predict class using the trained model\n",
    "    img_flat = img.flatten().reshape(1, -1)  # Shape: (1, 4096)\n",
    "    prediction = model.predict(img_flat)\n",
    "    predicted_label = np.argmax(prediction)\n",
    "\n",
    "    # Label mapping\n",
    "    shapes = ['circle', 'square', 'triangle']\n",
    "    print(\"Predicted Shape:\", shapes[predicted_label])"
   ]
  },
  {
   "cell_type": "code",
   "execution_count": 8,
   "id": "6c9c070a",
   "metadata": {},
   "outputs": [
    {
     "name": "stdout",
     "output_type": "stream",
     "text": [
      "\u001b[1m1/1\u001b[0m \u001b[32m━━━━━━━━━━━━━━━━━━━━\u001b[0m\u001b[37m\u001b[0m \u001b[1m0s\u001b[0m 50ms/step\n",
      "Predicted Shape: triangle\n"
     ]
    },
    {
     "data": {
      "image/png": "[encoded data removed]",
      "text/plain": [
       "<Figure size 640x480 with 1 Axes>"
      ]
     },
     "metadata": {},
     "output_type": "display_data"
    }
   ],
   "source": [
    "circle = cv2.imread('circle.png', cv2.IMREAD_GRAYSCALE)\n",
    "if circle is None:\n",
    "    print(\"Error: Image not loaded. Check the file path.\")\n",
    "else:\n",
    "    circle = cv2.resize(circle, (64, 64))\n",
    "    circle = circle / 255.0  # float division to keep values 0.0-1.0\n",
    "\n",
    "    test(circle)\n",
    "\n",
    "    plt.imshow(circle, cmap='gray')\n",
    "    plt.title(\"Input Image\")\n",
    "    plt.show()\n"
   ]
  },
  {
   "cell_type": "code",
   "execution_count": 9,
   "id": "be55f4d5",
   "metadata": {},
   "outputs": [
    {
     "name": "stdout",
     "output_type": "stream",
     "text": [
      "\u001b[1m1/1\u001b[0m \u001b[32m━━━━━━━━━━━━━━━━━━━━\u001b[0m\u001b[37m\u001b[0m \u001b[1m0s\u001b[0m 27ms/step\n",
      "Predicted Shape: triangle\n"
     ]
    },
    {
     "data": {
      "image/png": "[encoded data removed]",
      "text/plain": [
       "<Figure size 640x480 with 1 Axes>"
      ]
     },
     "metadata": {},
     "output_type": "display_data"
    }
   ],
   "source": [
    "square = cv2.imread('square.png', cv2.IMREAD_GRAYSCALE)\n",
    "if square is None:\n",
    "    print(\"Error: Image not loaded. Check the file path.\")\n",
    "else:\n",
    "    square = cv2.resize(square, (64, 64))\n",
    "    square = square / 255.0  # use float division to normalize pixel values to [0,1]\n",
    "\n",
    "    test(square)\n",
    "\n",
    "    plt.imshow(square, cmap='gray')\n",
    "    plt.title(\"Input Image\")\n",
    "    plt.show()\n"
   ]
  },
  {
   "cell_type": "code",
   "execution_count": 10,
   "id": "04bfca24",
   "metadata": {},
   "outputs": [
    {
     "name": "stdout",
     "output_type": "stream",
     "text": [
      "\u001b[1m1/1\u001b[0m \u001b[32m━━━━━━━━━━━━━━━━━━━━\u001b[0m\u001b[37m\u001b[0m \u001b[1m0s\u001b[0m 26ms/step\n",
      "Predicted Shape: triangle\n"
     ]
    },
    {
     "data": {
      "image/png": "[encoded data removed]",
      "text/plain": [
       "<Figure size 640x480 with 1 Axes>"
      ]
     },
     "metadata": {},
     "output_type": "display_data"
    }
   ],
   "source": [
    "triangle = cv2.imread('triangle.png', cv2.IMREAD_GRAYSCALE)\n",
    "if triangle is None:\n",
    "    print(\"Error: Image not loaded. Check the file path.\")\n",
    "else:\n",
    "    triangle = cv2.resize(triangle, (64, 64))\n",
    "    triangle = triangle / 255.0  # float division for normalization\n",
    "    test(triangle)\n",
    "    plt.imshow(triangle, cmap='gray')\n",
    "    plt.title(\"Input Image\")\n",
    "    plt.show()\n"
   ]
  }
 ],
 "metadata": {
  "kernelspec": {
   "display_name": "tf-env",
   "language": "python",
   "name": "python3"
  },
  "language_info": {
   "codemirror_mode": {
    "name": "ipython",
    "version": 3
   },
   "file_extension": ".py",
   "mimetype": "text/x-python",
   "name": "python",
   "nbconvert_exporter": "python",
   "pygments_lexer": "ipython3",
   "version": "3.10.11"
  }
 },
 "nbformat": 4,
 "nbformat_minor": 5
}
